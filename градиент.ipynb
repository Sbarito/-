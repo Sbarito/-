{
 "cells": [
  {
   "cell_type": "code",
   "execution_count": null,
   "id": "c70e8fc8",
   "metadata": {},
   "outputs": [],
   "source": [
    "import numpy as np\n",
    "import yaml\n",
    "\n",
    "X = np.array([\n",
    "    [0, 1],\n",
    "    [1, 1],\n",
    "    [1, 0],\n",
    "    [-0.5, 0.5],\n",
    "    [0, -0.5]\n",
    "])\n",
    "\n",
    "y = np.array([1, 1, 1, -1, -1])\n",
    "\n",
    "theta0 = np.array([1.0, 1.0, 0.0])\n",
    "\n",
    "lr = 0.1\n",
    "\n",
    "def f(X, theta):\n",
    "    theta = np.asarray(theta)\n",
    "    return (X * theta[:2]).sum(axis=-1) + theta[2]\n",
    "\n",
    "def loss(X, y, theta):\n",
    "    theta = np.asarray(theta)\n",
    "    norm = (theta ** 2).sum()\n",
    "    deltas = y * f(X, theta)\n",
    "    return 0.1 * norm + np.mean(np.maximum(0, 1 - deltas))\n",
    "\n",
    "print(\"Prediction:\", f(X, theta0))\n",
    "print(\"Loss:\", loss(X, y, theta0))\n",
    "\n",
    "# код оптимизации.\n",
    "theta = theta0\n",
    "n = len(X)\n",
    "\n",
    "def getDerivative(X, y, theta):\n",
    "    derivative = np.zeros((3, n))\n",
    "    maximum = np.array(np.zeros(n) < 1 - y * f(X, theta), dtype=int)\n",
    "    X = np.hstack((X, np.ones((n, 1))))\n",
    "    for i in range(3):\n",
    "        derivative[i] = maximum * ((-1) * (y * X.T[i]))\n",
    "    return derivative\n",
    "\n",
    "for i in range(1000):\n",
    "    derivative = getDerivative(X, y, theta)\n",
    "    gradient = np.zeros(3)\n",
    "    for i in range(3):\n",
    "        gradient[i] = 0.1 * 2 * theta[i] + (1/n) * sum(derivative[i])\n",
    "    theta = theta - lr * gradient\n",
    "\n",
    "print(\"Prediction:\", f(X, theta))\n",
    "print(\"Loss:\", loss(X, y, theta))\n",
    "\n",
    "with open(\"submission.yaml\", \"w\") as fp:\n",
    "    yaml.safe_dump({\"tasks\": [{\"task1\": {\"answer\": theta.tolist()}}]}, fp)"
   ]
  }
 ],
 "metadata": {
  "kernelspec": {
   "display_name": "Python 3 (ipykernel)",
   "language": "python",
   "name": "python3"
  },
  "language_info": {
   "codemirror_mode": {
    "name": "ipython",
    "version": 3
   },
   "file_extension": ".py",
   "mimetype": "text/x-python",
   "name": "python",
   "nbconvert_exporter": "python",
   "pygments_lexer": "ipython3",
   "version": "3.9.13"
  }
 },
 "nbformat": 4,
 "nbformat_minor": 5
}
